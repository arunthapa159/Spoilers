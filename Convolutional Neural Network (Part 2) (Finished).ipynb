{
 "cells": [
  {
   "cell_type": "markdown",
   "metadata": {},
   "source": [
    "# Convolutional Neural Network Part 2\n",
    "In this notebook, we are going to implement a Convolutional Neural Network with the hyperparameters obtained in the first part. This time, we will use a bigger part of the dataset. The steps are almost identical"
   ]
  },
  {
   "cell_type": "code",
   "execution_count": 1,
   "metadata": {},
   "outputs": [
    {
     "name": "stderr",
     "output_type": "stream",
     "text": [
      "Using TensorFlow backend.\n"
     ]
    },
    {
     "name": "stdout",
     "output_type": "stream",
     "text": [
      "2019-11-21 12:19:46.748878\n"
     ]
    }
   ],
   "source": [
    "import pandas as pd\n",
    "import numpy as np\n",
    "from tqdm import tqdm\n",
    "tqdm.pandas(desc='progress-bar')\n",
    "from sklearn import utils\n",
    "from sklearn.model_selection import train_test_split \n",
    "from keras.preprocessing.sequence import pad_sequences\n",
    "import gensim\n",
    "from sklearn.linear_model import LogisticRegression\n",
    "from gensim.models.doc2vec import TaggedDocument\n",
    "import re\n",
    "import matplotlib.pyplot as plt\n",
    "from keras.models import Sequential\n",
    "from keras import layers\n",
    "import datetime\n",
    "\n",
    "print(datetime.datetime.now())"
   ]
  },
  {
   "cell_type": "markdown",
   "metadata": {},
   "source": [
    "We load the dataset and keep the columns that we are going to use"
   ]
  },
  {
   "cell_type": "code",
   "execution_count": 2,
   "metadata": {},
   "outputs": [
    {
     "name": "stdout",
     "output_type": "stream",
     "text": [
      "Wall time: 15.5 s\n"
     ]
    },
    {
     "data": {
      "text/html": [
       "<div>\n",
       "<style scoped>\n",
       "    .dataframe tbody tr th:only-of-type {\n",
       "        vertical-align: middle;\n",
       "    }\n",
       "\n",
       "    .dataframe tbody tr th {\n",
       "        vertical-align: top;\n",
       "    }\n",
       "\n",
       "    .dataframe thead th {\n",
       "        text-align: right;\n",
       "    }\n",
       "</style>\n",
       "<table border=\"1\" class=\"dataframe\">\n",
       "  <thead>\n",
       "    <tr style=\"text-align: right;\">\n",
       "      <th></th>\n",
       "      <th>is_spoiler</th>\n",
       "      <th>review_text</th>\n",
       "    </tr>\n",
       "  </thead>\n",
       "  <tbody>\n",
       "    <tr>\n",
       "      <th>0</th>\n",
       "      <td>1</td>\n",
       "      <td>In its Oscar year, Shawshank Redemption (writt...</td>\n",
       "    </tr>\n",
       "    <tr>\n",
       "      <th>1</th>\n",
       "      <td>1</td>\n",
       "      <td>The Shawshank Redemption is without a doubt on...</td>\n",
       "    </tr>\n",
       "    <tr>\n",
       "      <th>2</th>\n",
       "      <td>1</td>\n",
       "      <td>I believe that this film is the best story eve...</td>\n",
       "    </tr>\n",
       "    <tr>\n",
       "      <th>3</th>\n",
       "      <td>1</td>\n",
       "      <td>**Yes, there are SPOILERS here**This film has ...</td>\n",
       "    </tr>\n",
       "    <tr>\n",
       "      <th>4</th>\n",
       "      <td>1</td>\n",
       "      <td>At the heart of this extraordinary movie is a ...</td>\n",
       "    </tr>\n",
       "  </tbody>\n",
       "</table>\n",
       "</div>"
      ],
      "text/plain": [
       "   is_spoiler                                        review_text\n",
       "0           1  In its Oscar year, Shawshank Redemption (writt...\n",
       "1           1  The Shawshank Redemption is without a doubt on...\n",
       "2           1  I believe that this film is the best story eve...\n",
       "3           1  **Yes, there are SPOILERS here**This film has ...\n",
       "4           1  At the heart of this extraordinary movie is a ..."
      ]
     },
     "execution_count": 2,
     "metadata": {},
     "output_type": "execute_result"
    }
   ],
   "source": [
    "%%time\n",
    "df = pd.read_json('IMDB_reviews.json', lines=True)\n",
    "df = df[['is_spoiler', 'review_text']]\n",
    "df.is_spoiler = df.is_spoiler.astype(int)\n",
    "df.head()"
   ]
  },
  {
   "cell_type": "markdown",
   "metadata": {},
   "source": [
    "## 1.- Balancing and Preprocessing\n",
    "### 1.1.- Balancing\n",
    "Since the data is not balanced (see previous notebooks), we use undersampling to obtain a balanced subset.<br> This time, the balanced subset contains 150.000 reviews"
   ]
  },
  {
   "cell_type": "code",
   "execution_count": 3,
   "metadata": {},
   "outputs": [
    {
     "name": "stdout",
     "output_type": "stream",
     "text": [
      "Random Undersampling\n"
     ]
    },
    {
     "data": {
      "image/png": "[encoded data removed]",
      "text/plain": [
       "<Figure size 432x288 with 1 Axes>"
      ]
     },
     "metadata": {
      "needs_background": "light"
     },
     "output_type": "display_data"
    },
    {
     "name": "stdout",
     "output_type": "stream",
     "text": [
      "1    75462\n",
      "0    75462\n",
      "Name: is_spoiler, dtype: int64\n",
      "Wall time: 471 ms\n"
     ]
    }
   ],
   "source": [
    "%%time\n",
    "# Class count\n",
    "count_not_spoiler, count_spoiler = df.is_spoiler.value_counts()\n",
    "\n",
    "# Divide by class\n",
    "df_spoiler = df[ df['is_spoiler'] == 1 ]\n",
    "df_not_spoiler = df[ df['is_spoiler'] == 0 ]\n",
    "\n",
    "# Random undersampling\n",
    "# We reduce the number of not spoiler to the number of spoiler\n",
    "# We use floor division (//)\n",
    "df_not_spoiler_under = df_not_spoiler.sample(int(count_spoiler//2))\n",
    "df_spoiler_under = df_spoiler.sample(int(count_spoiler//2))\n",
    "df_balanced = pd.concat([df_not_spoiler_under, df_spoiler_under], axis=0)\n",
    "\n",
    "# We randomize the order of the rows\n",
    "df_balanced = df_balanced.sample(frac=1)\n",
    "\n",
    "# The resulting dataset is balanced (100.616 reviews with spoilers and 100.616 without spoilers)\n",
    "print('Random Undersampling')\n",
    "df_balanced.is_spoiler.value_counts().plot(kind='bar', title='Count')\n",
    "plt.show()\n",
    "print(df_balanced.is_spoiler.value_counts())"
   ]
  },
  {
   "cell_type": "markdown",
   "metadata": {},
   "source": [
    "We split the balanced dataset in training and test, The function returns a Numpy array"
   ]
  },
  {
   "cell_type": "code",
   "execution_count": 4,
   "metadata": {},
   "outputs": [
    {
     "data": {
      "text/plain": [
       "Index(['is_spoiler', 'review_text'], dtype='object')"
      ]
     },
     "execution_count": 4,
     "metadata": {},
     "output_type": "execute_result"
    }
   ],
   "source": [
    "df_balanced.columns"
   ]
  },
  {
   "cell_type": "code",
   "execution_count": 5,
   "metadata": {},
   "outputs": [],
   "source": [
    "reviews = df_balanced['review_text'].values\n",
    "y = df_balanced['is_spoiler'].values\n",
    "\n",
    "# Splitting in training and test set\n",
    "reviews_train, reviews_test, y_train, y_test = train_test_split(reviews, y, test_size=0.3, random_state=1000)"
   ]
  },
  {
   "cell_type": "markdown",
   "metadata": {},
   "source": [
    "### 1.2- Preprocessing\n",
    "We define the tokenize() function created in previous notebooks with the only difference that this time it returns a simple string instead of a list of strings. <br>\n",
    "The name of the function has been changed to preprocess to avoid confusions with the keras function that has the same name"
   ]
  },
  {
   "cell_type": "code",
   "execution_count": 6,
   "metadata": {},
   "outputs": [],
   "source": [
    "plt.style.use('ggplot')\n",
    "\n",
    "def plot_history(history):\n",
    "    acc = history.history['acc']\n",
    "    val_acc = history.history['val_acc']\n",
    "    loss = history.history['loss']\n",
    "    val_loss = history.history['val_loss']\n",
    "    \n",
    "    precision = history.history['precision_m']\n",
    "    val_precision = history.history['val_precision_m']\n",
    "    \n",
    "    recall = history.history['recall_m']\n",
    "    val_recall = history.history['val_recall_m']\n",
    "    \n",
    "    f1 = history.history['f1_m']\n",
    "    val_f1 = history.history['val_f1_m']\n",
    "    \n",
    "    x = range(1, len(acc) + 1)\n",
    "    \n",
    "    \n",
    "    plt.figure(figsize=(24, 10))\n",
    "    \n",
    "    plt.subplot(2, 2, 1)\n",
    "    plt.ylim(0., 1.)\n",
    "    plt.plot(x, acc, 'b', label='Training acc')\n",
    "    plt.plot(x, val_acc, 'r', label='Validation acc')\n",
    "    plt.title('Training and validation accuracy')\n",
    "    plt.legend()\n",
    "    \n",
    "    plt.subplot(2, 2, 2)\n",
    "    plt.plot(x, precision, 'b', label='Training precision')\n",
    "    plt.plot(x, val_precision, 'r', label='Validation precision')\n",
    "    plt.ylim(0., 1.)\n",
    "    plt.title('Training and validation precision')\n",
    "    plt.legend()\n",
    "    \n",
    "    plt.subplot(2, 2, 3)\n",
    "    plt.plot(x, recall, 'b', label='Training recall')\n",
    "    plt.plot(x, val_recall, 'r', label='Validation recall')\n",
    "    plt.ylim(0., 1.)\n",
    "    plt.title('Training and validation recall')\n",
    "    plt.legend()\n",
    "    \n",
    "    plt.subplot(2, 2, 4)\n",
    "    plt.plot(x, f1, 'b', label='Training f1-score')\n",
    "    plt.plot(x, val_f1, 'r', label='Validation f1-score')\n",
    "    plt.ylim(0., 1.)\n",
    "    plt.title('Training and validation f1-score')\n",
    "    plt.legend()\n",
    "    plt.show()"
   ]
  },
  {
   "cell_type": "code",
   "execution_count": 7,
   "metadata": {},
   "outputs": [
    {
     "data": {
      "text/plain": [
       "179"
      ]
     },
     "execution_count": 7,
     "metadata": {},
     "output_type": "execute_result"
    }
   ],
   "source": [
    "# We create a map that takes the outputs of pos-tagging and convert them into the inputs of lemmatization\n",
    "# We use name as the default value\n",
    "pos_map = {'CC': 'n','CD': 'n','DT': 'n','EX': 'n','FW': 'n','IN': 'n','JJ': 'a','JJR': 'a',\n",
    "'JJS': 'a','LS': 'n','MD': 'v','NN': 'n','NNS': 'n','NNP': 'n','NNPS': 'n','PDT': 'n',\n",
    "'POS': 'n','PRP': 'n','PRP$': 'r','RB': 'r','RBR': 'r','RBS': 'r','RP': 'n','TO': 'n',\n",
    "'UH': 'n','VB': 'v','VBD': 'v','VBG': 'v','VBN': 'v','VBP': 'v','VBZ': 'v','WDT': 'n', 'WP': 'n','WP$': 'n','WRB': 'r'}\n",
    "\n",
    "from nltk.corpus import stopwords\n",
    "\n",
    "# We define our stop words list\n",
    "stop_words = set(stopwords.words('english'))\n",
    "len(stop_words)"
   ]
  },
  {
   "cell_type": "code",
   "execution_count": 8,
   "metadata": {},
   "outputs": [],
   "source": [
    "import nltk\n",
    "from bs4 import BeautifulSoup\n",
    "from nltk.tokenize import RegexpTokenizer\n",
    "from nltk.stem import WordNetLemmatizer\n",
    "\n",
    "# We initialize the lemmatizer\n",
    "lemmatizer = WordNetLemmatizer()\n",
    "\n",
    "def preprocess(example_sent):\n",
    "    # example_sent = \"Hi, it's me\"\n",
    "    # Since all the stopwords are in lower case, we have to convert the string to lowercase first\n",
    "    example_sent = example_sent.lower()\n",
    "\n",
    "    # This was a simple tokenizer that kept the punctuation symbols\n",
    "    # word_tokens = word_tokenize(example_sent)\n",
    "    \n",
    "    # Japanese words are kept as a single word, so we can remove them easily, but urls, emails and html tags are splitted, so we\n",
    "    # have to remove them before tokenizing\n",
    "    \n",
    "    # Removing url, emails and html tags\n",
    "    # HTML TAGS\n",
    "    example_sent = BeautifulSoup(example_sent, 'lxml').text\n",
    "\n",
    "    # EMAIL ADDRESSES\n",
    "    example_sent = re.sub(r'[\\w\\.-]+@[\\w\\.-]+', ' ', example_sent)\n",
    "\n",
    "    # URLs\n",
    "    example_sent = re.sub(r'http\\S+', '', example_sent)\n",
    "\n",
    "    # Removing punctuation symbol\n",
    "    tokenizer = RegexpTokenizer(r'\\w+')\n",
    "    word_tokens = tokenizer.tokenize(example_sent)\n",
    "    # Now we have obtained the tokenized words without punctuation symbols and with stopwords\n",
    "\n",
    "    # POS Tagging the data (the stopwords improve the accuracy of the pos tagging, so we'll remove them later)\n",
    "    # This method returns a list of tuples: (word, classification)\n",
    "    tags = nltk.pos_tag(word_tokens)\n",
    "\n",
    "    # We lemmatize all the words in the text by their category\n",
    "    for i, word in enumerate(word_tokens):\n",
    "        # Returns the lemmatized word given its category (if the key is not part of the map, the word is considered a noun)\n",
    "        word_tokens[i] = lemmatizer.lemmatize(word, pos=pos_map.get(tags[i][1] , 'n'))\n",
    "\n",
    "    # Removing stop words\n",
    "    filtered_sentence = [w for w in word_tokens if not w in stop_words]\n",
    "\n",
    "    # In html:  <br>  -->  br\n",
    "    # In email:  jua@gmail.com  --> jua, gmail, com\n",
    "    # In url: https://www.youtube.com  --> http, www, youtube, com\n",
    "    \n",
    "    filtered_sentence_string = ' '.join(filtered_sentence)\n",
    "    return filtered_sentence_string"
   ]
  },
  {
   "cell_type": "code",
   "execution_count": 9,
   "metadata": {},
   "outputs": [
    {
     "data": {
      "text/plain": [
       "'sentence show stop word filtration'"
      ]
     },
     "execution_count": 9,
     "metadata": {},
     "output_type": "execute_result"
    }
   ],
   "source": [
    "# Testing the tokenizer\n",
    "test = \"<HTML>This <p>is.a</p> ! jua@email.com sentences, showing off the <br> stop words filtration. http://www.youtube.com\"\n",
    "preprocess(test)"
   ]
  },
  {
   "cell_type": "code",
   "execution_count": 10,
   "metadata": {},
   "outputs": [
    {
     "data": {
      "text/plain": [
       "'My only comment is regarding the voice used by Mr. Day-Lewis in his portrayal of Abraham Lincoln. I have read about the decision to use a higher voice and that it is supposedly more historically accurate as \"sources described Lincoln\\'s voice as thin and reedy\". Unfortunately, I\\'m afraid I can no longer take this seriously. The problem (and once I noticed this phenomenon, I could not get past it) is that if you close your eyes, you cannot help but notice that the voice of Mr. Day-Lewis as Abraham Lincoln sounds almost exactly like that of the famous Mr. Burns from \"The Simpsons\". I\\'m serious. In fact, listen to the trailer available here on IMDb and you will hear it for yourself!'"
      ]
     },
     "execution_count": 10,
     "metadata": {},
     "output_type": "execute_result"
    }
   ],
   "source": [
    "reviews_train[0]"
   ]
  },
  {
   "cell_type": "markdown",
   "metadata": {},
   "source": [
    "Preprocessing the training set"
   ]
  },
  {
   "cell_type": "code",
   "execution_count": 11,
   "metadata": {},
   "outputs": [
    {
     "name": "stdout",
     "output_type": "stream",
     "text": [
      "2019-11-21 12:20:07.008118\n",
      "Wall time: 19min 11s\n"
     ]
    }
   ],
   "source": [
    "%%time\n",
    "# Printing the starting time\n",
    "print(datetime.datetime.now())\n",
    "reviews_train = [preprocess(reviews_train[i]) for i in range(len(reviews_train))]"
   ]
  },
  {
   "cell_type": "code",
   "execution_count": 12,
   "metadata": {},
   "outputs": [
    {
     "data": {
      "text/plain": [
       "'comment regard voice use mr day lewis portrayal abraham lincoln read decision use high voice supposedly historically accurate source describe lincoln voice thin reedy unfortunately afraid longer take seriously problem notice phenomenon could get past close eye cannot help notice voice mr day lewis abraham lincoln sound almost exactly like famous mr burn simpson serious fact listen trailer available imdb hear'"
      ]
     },
     "execution_count": 12,
     "metadata": {},
     "output_type": "execute_result"
    }
   ],
   "source": [
    "reviews_train[0]"
   ]
  },
  {
   "cell_type": "markdown",
   "metadata": {},
   "source": [
    "We follow the same procedure for the test set"
   ]
  },
  {
   "cell_type": "code",
   "execution_count": 13,
   "metadata": {
    "scrolled": true
   },
   "outputs": [
    {
     "name": "stdout",
     "output_type": "stream",
     "text": [
      "2019-11-21 12:39:18.522361\n",
      "Wall time: 8min 9s\n"
     ]
    }
   ],
   "source": [
    "%%time\n",
    "print(datetime.datetime.now())\n",
    "reviews_test = [preprocess(reviews_test[i]) for i in range(len(reviews_test))]"
   ]
  },
  {
   "cell_type": "markdown",
   "metadata": {},
   "source": [
    "### 1.3.- Obtaining word Embeddings\n",
    "We are going to represent words as dense word vectors (it usually works better than sparse vectors like bag of words or one-hot encoding). <br>\n",
    "\n",
    "The idea is to map semantically similar words close on the embedding space like numbers or colors. <br>\n",
    "\n",
    "We use the Tokenizer utility class which can vectorize a text corpus into a list of integers. Each integer maps to a value in a map that encodes the entire corpus. We can limit the number of words of the vocabulary with the optional parameter ```num_words```, keeping only the most frequent words. The words are indexed according to their frequency (The most common word has index=1)"
   ]
  },
  {
   "cell_type": "code",
   "execution_count": 14,
   "metadata": {},
   "outputs": [
    {
     "name": "stdout",
     "output_type": "stream",
     "text": [
      "2019-11-21 12:47:28.134697\n",
      "Wall time: 21 s\n"
     ]
    }
   ],
   "source": [
    "%%time\n",
    "from keras.preprocessing.text import Tokenizer\n",
    "print(datetime.datetime.now())\n",
    "# For now, we are not going to limit the vocabulary size\n",
    "# num_words = limit in vocabulary\n",
    "tokenizer = Tokenizer()\n",
    "tokenizer.fit_on_texts(reviews_train)\n",
    "\n",
    "x_train = tokenizer.texts_to_sequences(reviews_train)\n",
    "x_test = tokenizer.texts_to_sequences(reviews_test)\n",
    "\n",
    "# We add 1 because 0 is a reserved value\n",
    "vocab_size = len(tokenizer.word_index) + 1"
   ]
  },
  {
   "cell_type": "code",
   "execution_count": 15,
   "metadata": {},
   "outputs": [
    {
     "name": "stdout",
     "output_type": "stream",
     "text": [
      "117542\n"
     ]
    }
   ],
   "source": [
    "# Number of words in the vocabulary\n",
    "vocab_size\n",
    "\n",
    "# Map where keys=word and value=word_id (from 0 to 21530)\n",
    "map_words = tokenizer.word_index\n",
    "map_words\n",
    "\n",
    "print(vocab_size)"
   ]
  },
  {
   "cell_type": "markdown",
   "metadata": {},
   "source": [
    "Example of a review after the word embedding. The resulting vector equals the length of the text. In most cases each text sequence has a different number of words. To counter this, we use ```pad_sequence()``` to fill the rest of the vector with 0, this way, the resulting vectors will all have the same length.\n",
    "\n",
    "This function takes the max_length of a vector as a parameter, and fills the rest with zeros, our value of max_length will be the length of the longest review in the training set"
   ]
  },
  {
   "cell_type": "code",
   "execution_count": 16,
   "metadata": {},
   "outputs": [
    {
     "name": "stdout",
     "output_type": "stream",
     "text": [
      "562 992 380 66 359 85 1758 783 5171 2131 130 942 66 158 380 1833 3670 1483 1167 812 2131 380 1635 30379 518 1430 1382 31 535 188 670 4378 37 9 320 292 223 449 149 670 380 359 85 1758 5171 2131 306 124 460 4 906 359 1336 4790 493 110 1066 472 2574 769 299 "
     ]
    }
   ],
   "source": [
    "for i in x_train[0]:\n",
    "    print(i, end=\" \")"
   ]
  },
  {
   "cell_type": "markdown",
   "metadata": {},
   "source": [
    "We estimate the value of maxlen"
   ]
  },
  {
   "cell_type": "code",
   "execution_count": 17,
   "metadata": {},
   "outputs": [
    {
     "data": {
      "text/plain": [
       "105646"
      ]
     },
     "execution_count": 17,
     "metadata": {},
     "output_type": "execute_result"
    }
   ],
   "source": [
    "len(x_train)"
   ]
  },
  {
   "cell_type": "code",
   "execution_count": 18,
   "metadata": {},
   "outputs": [
    {
     "name": "stdout",
     "output_type": "stream",
     "text": [
      "Max length training set =  1343\n",
      "Average length training set =  147.54217859644473\n",
      "\n",
      "\n",
      "Max length test set =  1250\n",
      "Average length test set =  147.05680462917974\n"
     ]
    }
   ],
   "source": [
    "maxlen = 0\n",
    "average_length = 0\n",
    "for review in x_train:\n",
    "    average_length = average_length + len(review)\n",
    "    if(len(review)>maxlen):\n",
    "        maxlen = len(review)\n",
    "average_length = average_length / len(x_train)\n",
    "\n",
    "\n",
    "maxlen_test = 0\n",
    "average_length_test = 0\n",
    "for review in x_test:\n",
    "    average_length_test = average_length_test + len(review)\n",
    "    if(len(review)>maxlen_test):\n",
    "        maxlen_test = len(review)\n",
    "average_length_test = average_length_test / len(x_test)\n",
    "\n",
    "\n",
    "print('Max length training set = ', maxlen)\n",
    "print('Average length training set = ', average_length)\n",
    "\n",
    "print('\\n')\n",
    "print('Max length test set = ', maxlen_test)\n",
    "print('Average length test set = ', average_length_test)"
   ]
  },
  {
   "cell_type": "markdown",
   "metadata": {},
   "source": [
    "We are not going to reduce the size of the vocabulary to avoid loss of information<br>\n",
    "\n",
    "In the subsets used, the test set tends to have a smaller max length than the training set (or a similar one), so we don't lose any information in most of the cases. <br>\n",
    "\n",
    "We proceed to pad the sequences with the value of maxlen as parameter"
   ]
  },
  {
   "cell_type": "code",
   "execution_count": 19,
   "metadata": {},
   "outputs": [],
   "source": [
    "x_train = pad_sequences(x_train, padding='post', maxlen=maxlen)\n",
    "x_test = pad_sequences(x_test, padding='post', maxlen=maxlen)"
   ]
  },
  {
   "cell_type": "code",
   "execution_count": 20,
   "metadata": {},
   "outputs": [
    {
     "name": "stdout",
     "output_type": "stream",
     "text": [
      "Length of x_train 0 after zero padding:  1343\n",
      "\n",
      "First 10 values of x_train after zero padding:  [ 562  992  380   66  359   85 1758  783 5171 2131]\n",
      "\n",
      "Last 10 values of x_train after zero padding:  [0 0 0 0 0 0 0 0 0 0]\n"
     ]
    }
   ],
   "source": [
    "print('Length of x_train 0 after zero padding: ',len(x_train[0]))\n",
    "print('\\nFirst 10 values of x_train after zero padding: ',x_train[0][:10])\n",
    "print('\\nLast 10 values of x_train after zero padding: ', x_train[0][maxlen-10:])"
   ]
  },
  {
   "cell_type": "markdown",
   "metadata": {},
   "source": [
    "### 1.4.- Using the Keras Embedding Layer to create a dense vector representation\n",
    "This is done in the first layer of the CNN. We will use the parameters obtained after the Grid Search\n",
    "- **Number of filters:** 128\n",
    "- **Kernel Size:** 5\n",
    "- **Number of Dimensions:** 50"
   ]
  },
  {
   "cell_type": "markdown",
   "metadata": {},
   "source": [
    "## 2.- Implementation of the CNN"
   ]
  },
  {
   "cell_type": "code",
   "execution_count": 21,
   "metadata": {},
   "outputs": [
    {
     "name": "stdout",
     "output_type": "stream",
     "text": [
      "Hyperparameters of the model \n",
      "\n",
      "Input length(max length): 1343\n",
      "Vocabulary size: 117542\n",
      "Output length (number of dimensions): 50\n"
     ]
    }
   ],
   "source": [
    "vocab_size = len(tokenizer.word_index) + 1\n",
    "embedding_dim = 50\n",
    "\n",
    "print('Hyperparameters of the model \\n')\n",
    "print('Input length(max length):', maxlen)\n",
    "print('Vocabulary size:', vocab_size)\n",
    "print('Output length (number of dimensions):', embedding_dim)"
   ]
  },
  {
   "cell_type": "code",
   "execution_count": 22,
   "metadata": {},
   "outputs": [],
   "source": [
    "# Defining the metrics\n",
    "from keras import backend as K\n",
    "\n",
    "def recall_m(y_true, y_pred):\n",
    "        true_positives = K.sum(K.round(K.clip(y_true * y_pred, 0, 1)))\n",
    "        possible_positives = K.sum(K.round(K.clip(y_true, 0, 1)))\n",
    "        recall = true_positives / (possible_positives + K.epsilon())\n",
    "        return recall\n",
    "\n",
    "def precision_m(y_true, y_pred):\n",
    "        true_positives = K.sum(K.round(K.clip(y_true * y_pred, 0, 1)))\n",
    "        predicted_positives = K.sum(K.round(K.clip(y_pred, 0, 1)))\n",
    "        precision = true_positives / (predicted_positives + K.epsilon())\n",
    "        return precision\n",
    "\n",
    "def f1_m(y_true, y_pred):\n",
    "    precision = precision_m(y_true, y_pred)\n",
    "    recall = recall_m(y_true, y_pred)\n",
    "    return 2*((precision*recall)/(precision+recall+K.epsilon()))"
   ]
  },
  {
   "cell_type": "code",
   "execution_count": 35,
   "metadata": {},
   "outputs": [
    {
     "name": "stdout",
     "output_type": "stream",
     "text": [
      "Model: \"sequential_5\"\n",
      "_________________________________________________________________\n",
      "Layer (type)                 Output Shape              Param #   \n",
      "=================================================================\n",
      "embedding_5 (Embedding)      (None, 1343, 50)          5877100   \n",
      "_________________________________________________________________\n",
      "conv1d_5 (Conv1D)            (None, 1339, 128)         32128     \n",
      "_________________________________________________________________\n",
      "global_max_pooling1d_5 (Glob (None, 128)               0         \n",
      "_________________________________________________________________\n",
      "dense_9 (Dense)              (None, 10)                1290      \n",
      "_________________________________________________________________\n",
      "dense_10 (Dense)             (None, 1)                 11        \n",
      "=================================================================\n",
      "Total params: 5,910,529\n",
      "Trainable params: 5,910,529\n",
      "Non-trainable params: 0\n",
      "_________________________________________________________________\n"
     ]
    }
   ],
   "source": [
    "model = Sequential()\n",
    "model.add(layers.Embedding(vocab_size, embedding_dim, input_length=maxlen))\n",
    "model.add(layers.Conv1D(128, 5, activation='relu'))\n",
    "model.add(layers.GlobalMaxPooling1D())\n",
    "model.add(layers.Dense(10, activation='relu'))\n",
    "model.add(layers.Dense(1, activation='sigmoid'))\n",
    "model.compile(optimizer='adam',\n",
    "              loss='binary_crossentropy',\n",
    "              metrics=['acc',f1_m,precision_m, recall_m])\n",
    "model.summary()"
   ]
  },
  {
   "cell_type": "markdown",
   "metadata": {},
   "source": [
    "Training the model"
   ]
  },
  {
   "cell_type": "code",
   "execution_count": 36,
   "metadata": {},
   "outputs": [
    {
     "name": "stdout",
     "output_type": "stream",
     "text": [
      "2019-11-21 20:56:43.372917\n",
      "Train on 105646 samples, validate on 45278 samples\n",
      "Epoch 1/3\n",
      " - 1486s - loss: 0.5932 - acc: 0.6766 - f1_m: 0.6410 - precision_m: 0.6802 - recall_m: 0.6634 - val_loss: 0.6067 - val_acc: 0.6664 - val_f1_m: 0.5562 - val_precision_m: 0.7539 - val_recall_m: 0.4753\n",
      "Epoch 2/3\n",
      " - 1484s - loss: 0.5021 - acc: 0.7538 - f1_m: 0.7277 - precision_m: 0.7582 - recall_m: 0.7465 - val_loss: 0.6036 - val_acc: 0.6796 - val_f1_m: 0.6814 - val_precision_m: 0.6592 - val_recall_m: 0.7498\n",
      "Epoch 3/3\n",
      " - 1488s - loss: 0.3169 - acc: 0.8671 - f1_m: 0.8512 - precision_m: 0.8697 - recall_m: 0.8649 - val_loss: 0.7676 - val_acc: 0.6584 - val_f1_m: 0.6750 - val_precision_m: 0.6336 - val_recall_m: 0.7713\n",
      "Wall time: 1h 14min 18s\n"
     ]
    }
   ],
   "source": [
    "%%time \n",
    "print(datetime.datetime.now())\n",
    "\n",
    "history = model.fit(x_train, y_train,\n",
    "                   epochs = 3,\n",
    "                   verbose=2,\n",
    "                   validation_data=(x_test, y_test),\n",
    "                   batch_size=10)"
   ]
  },
  {
   "cell_type": "markdown",
   "metadata": {},
   "source": [
    "Evaluating the model"
   ]
  },
  {
   "cell_type": "code",
   "execution_count": 37,
   "metadata": {
    "scrolled": true
   },
   "outputs": [
    {
     "name": "stdout",
     "output_type": "stream",
     "text": [
      "<built-in method now of type object at 0x00007FF8A2CCF750>\n",
      "Training Accuracy: 0.9588437080383301 \n",
      "Training Precision: 0.9323247075080872 \n",
      "Training Recall: 0.9891384243965149 \n",
      "F1 Score: 0.9586535096168518\n",
      "\n",
      "Testing Accuracy: 0.658399224281311 \n",
      "Testing Precision: 0.6335119605064392 \n",
      "Testing Recall: 0.7716497778892517 \n",
      "F1 Score: 0.6896406412124634\n"
     ]
    },
    {
     "data": {
      "image/png": "[encoded data removed]",
      "text/plain": [
       "<Figure size 1728x720 with 4 Axes>"
      ]
     },
     "metadata": {},
     "output_type": "display_data"
    },
    {
     "name": "stdout",
     "output_type": "stream",
     "text": [
      "Wall time: 4min\n"
     ]
    }
   ],
   "source": [
    "%%time\n",
    "print(datetime.datetime.now)\n",
    "loss, accuracy, f1_score, precision, recall = model.evaluate(x_train, y_train, verbose=False)\n",
    "# print(\"Training Accuracy: {:.4f}\".format(accuracy))\n",
    "print('Training Accuracy:', accuracy, '\\nTraining Precision:', precision, '\\nTraining Recall:', recall, '\\nF1 Score:', f1_score)\n",
    "loss, accuracy, f1_score, precision, recall = model.evaluate(x_test, y_test, verbose=False)\n",
    "print('\\nTesting Accuracy:', accuracy, '\\nTesting Precision:', precision, '\\nTesting Recall:', recall, '\\nF1 Score:', f1_score)\n",
    "plot_history(history)"
   ]
  },
  {
   "cell_type": "markdown",
   "metadata": {},
   "source": [
    "## 3.- Analysis of the results\n",
    "After applying the method with the best hyperparameters obtained after the Grid Search, we obtained a 0.68 F1-Score (Precision: 0.63 and Recall: 0.77). We only used 3 epochs in this case because more epochs would overfit the training set and return worse results (even with 3 epochs we can notice that the values of precision and accuracy are reduced in the last epoch). This result offers best results than majority class (0.5)."
   ]
  }
 ],
 "metadata": {
  "kernelspec": {
   "display_name": "Python 3",
   "language": "python",
   "name": "python3"
  },
  "language_info": {
   "codemirror_mode": {
    "name": "ipython",
    "version": 3
   },
   "file_extension": ".py",
   "mimetype": "text/x-python",
   "name": "python",
   "nbconvert_exporter": "python",
   "pygments_lexer": "ipython3",
   "version": "3.7.3"
  }
 },
 "nbformat": 4,
 "nbformat_minor": 2
}
